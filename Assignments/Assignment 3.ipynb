{
  "cells": [
    {
      "cell_type": "markdown",
      "metadata": {
        "id": "gr2iAYlZYaud"
      },
      "source": [
        "# Assignment 3\n",
        "\n",
        "# 1. Solve the one-dimensional wave equation\n",
        "\n",
        "\\[\n",
        "\\frac{\\partial^2 u}{\\partial t^2} = 16 \\frac{\\partial^2 u}{\\partial x^2}\n",
        "\\]\n",
        "\n",
        "## with the boundary conditions\n",
        "\n",
        "\\[\n",
        "u(0, t) = 0, \\quad u(2\\pi, t) = 0\n",
        "\\]\n",
        "\n",
        "## and the initial conditons\n",
        "\n",
        "\\[\n",
        "u(x, 0) = \\cos(x), \\quad \\frac{\\partial u}{\\partial t}(x, 0) = 0\n",
        "\\]\n",
        "\n",
        "## Use the explicit finite difference method with\n",
        "\n",
        "\\[\n",
        "h = \\frac{1}{8}, \\quad k = \\frac{1}{4}\n",
        "\\]\n",
        "\n",
        "## and present the output in the tabular method"
      ]
    },
    {
      "cell_type": "markdown",
      "metadata": {
        "id": "hmwMgPtkYaut"
      },
      "source": [
        "# Solution"
      ]
    },
    {
      "cell_type": "markdown",
      "metadata": {
        "id": "T-I2yCERYauv"
      },
      "source": [
        "### Q.1"
      ]
    },
    {
      "cell_type": "code",
      "execution_count": null,
      "metadata": {
        "colab": {
          "base_uri": "https://localhost:8080/",
          "height": 206
        },
        "id": "pZbP-UwMYaux",
        "outputId": "52bb660b-ece3-47e0-d9ba-0b2e755b2a96"
      },
      "outputs": [],
      "source": [
        "import numpy as np\n",
        "import pandas as pd\n",
        "\n",
        "# Define g(x)\n",
        "def g(x):\n",
        "    return x**2\n",
        "\n",
        "# Parameters\n",
        "L = 2 * np.pi\n",
        "T = 1\n",
        "h = 1/8\n",
        "k = 1/2\n",
        "a = 4  # Since u_tt = 16u_xx, c^2 = 16 => a = 4\n",
        "lambda_ = a * k / h\n",
        "M = int(L / h)\n",
        "N = int(T / k)\n",
        "\n",
        "# Initialize u\n",
        "u = np.zeros((M + 1, N + 1))\n",
        "\n",
        "# Boundary conditions\n",
        "u[0, :] = 0\n",
        "u[M, :] = 0\n",
        "\n",
        "# Initial conditions\n",
        "x = np.linspace(0, L, M + 1)\n",
        "u[:, 0] = np.cos(x)\n",
        "\n",
        "# Modified u_t(x, 0)\n",
        "for i in range(1, M):\n",
        "    u[i, 1] = u[1, 0] + u[i-1, 0] / 2 + g(i * h)\n",
        "\n",
        "# Explicit FDM\n",
        "for j in range(1, N):\n",
        "    for i in range(1, M):\n",
        "        u[i, j + 1] = lambda_**2 * (u[i+1, j]) - 2 * (1-lambda_**2) * u[i, j] + lambda_**2 * u[i-1, j]- u[i, j-1]\n",
        "\n",
        "# Create a table for selected points\n",
        "selected_x = [1,2,3,4,5]\n",
        "selected_points = []\n",
        "\n",
        "for x_index in selected_x:\n",
        "    x_val = x_index * h\n",
        "    closest_index = np.argmin(np.abs(x - x_val)) # find the index for the given x\n",
        "\n",
        "    # Find the closest time step (as t=x was requested)\n",
        "    closest_time_index = np.argmin(np.abs(np.linspace(0,T,N+1) - x_val))\n",
        "    selected_points.append((x_val, np.linspace(0,T,N+1)[closest_time_index], u[closest_index,closest_time_index]))\n",
        "\n",
        "#create the dataframe from list of tuple\n",
        "df = pd.DataFrame(selected_points, columns = ['x','t','u(x,t)'])\n",
        "\n",
        "df"
      ]
    }
  ],
  "metadata": {
    "colab": {
      "provenance": []
    },
    "kernelspec": {
      "display_name": "Python 3",
      "language": "python",
      "name": "python3"
    },
    "language_info": {
      "codemirror_mode": {
        "name": "ipython",
        "version": 3
      },
      "file_extension": ".py",
      "mimetype": "text/x-python",
      "name": "python",
      "nbconvert_exporter": "python",
      "pygments_lexer": "ipython3",
      "version": "3.11.3"
    }
  },
  "nbformat": 4,
  "nbformat_minor": 0
}
