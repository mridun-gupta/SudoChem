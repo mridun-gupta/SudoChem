{
  "cells": [
    {
      "cell_type": "markdown",
      "metadata": {
        "id": "hmwMgPtkYaut"
      },
      "source": [
        "# Solution"
      ]
    },
    {
      "cell_type": "markdown",
      "metadata": {
        "id": "T-I2yCERYauv"
      },
      "source": [
        "### Q.2"
      ]
    },
    {
      "cell_type": "code",
      "execution_count": null,
      "metadata": {},
      "outputs": [],
      "source": [
        "# Get input from the user\n",
        "num = int(input(\"Enter a number to calculate factorial: \"))\n",
        "\n",
        "# Calculate factorial using a for loop\n",
        "factorial_for = 1\n",
        "for i in range(1, num + 1):\n",
        "    factorial_for *= i\n",
        "\n",
        "# Calculate factorial using a while loop\n",
        "factorial_while = 1\n",
        "counter = 1\n",
        "while counter <= num:\n",
        "    factorial_while *= counter\n",
        "    counter += 1\n",
        "\n",
        "# Display both results\n",
        "print(f\"Factorial of {num} using for loop: {factorial_for}\")\n",
        "print(f\"Factorial of {num} using while loop: {factorial_while}\")"
      ]
    },
    {
      "cell_type": "markdown",
      "metadata": {},
      "source": [
        "### Q.3"
      ]
    },
    {
      "cell_type": "code",
      "execution_count": null,
      "metadata": {},
      "outputs": [],
      "source": [
        "from tabulate import tabulate\n",
        "\n",
        "# Van der Waals equation\n",
        "def vander_waals(V, P, a, b, R, T, n=1):\n",
        "    return n * R * T / (V - n * b) - a * n**2 / V**2 - P\n",
        "\n",
        "# Derivative of the Van der Waals equation\n",
        "def vander_waals_derivative(V, P, a, b, R, T, n=1):\n",
        "    return -n * R * T / (V - n * b)**2 + 2 * a * n**2 / V**3\n",
        "\n",
        "# Constants\n",
        "P = 10\n",
        "T = 300\n",
        "R = 0.0821\n",
        "a = 3.6\n",
        "b = 0.0427\n",
        "initial_guess = 1.5\n",
        "tolerance = 1e-6\n",
        "max_iterations = 100\n",
        "toleranceIndex = 6  # for rounding to match tolerance\n",
        "\n",
        "# Newton-Raphson setup\n",
        "iteration = 0\n",
        "results = []\n",
        "V = initial_guess\n",
        "\n",
        "# Newton-Raphson method\n",
        "while iteration < max_iterations:\n",
        "    f_value = vander_waals(V, P, a, b, R, T)\n",
        "    f_derivative = vander_waals_derivative(V, P, a, b, R, T)\n",
        "\n",
        "    results.append([\n",
        "        iteration,\n",
        "        round(V, toleranceIndex),\n",
        "        round(f_value, toleranceIndex),\n",
        "        round(f_derivative, toleranceIndex)\n",
        "    ])\n",
        "\n",
        "    if abs(f_value) < tolerance:\n",
        "        break\n",
        "\n",
        "    V -= f_value / f_derivative\n",
        "    iteration += 1\n",
        "\n",
        "# Output the result\n",
        "if iteration == max_iterations:\n",
        "    print(\"Did not converge.\")\n",
        "else:\n",
        "    print(tabulate(results, headers=[\"Iteration\", \"Volume (V)\", \"f(V)\", \"f'(V)\"]))"
      ]
    },
    {
      "cell_type": "markdown",
      "metadata": {},
      "source": [
        "### Q.4"
      ]
    },
    {
      "cell_type": "code",
      "execution_count": null,
      "metadata": {},
      "outputs": [],
      "source": [
        "import numpy as np\n",
        "import matplotlib.pyplot as plt\n",
        "from tabulate import tabulate\n",
        "\n",
        "# Define the differential equation: dy/dt = y*sin(t) + t^2\n",
        "def f(t, y):\n",
        "\treturn y * np.sin(t) + t**2\n",
        "\n",
        "# Define RK4 method\n",
        "def rk4_step(f, t, y, h):\n",
        "\tk1 = f(t, y)\n",
        "\tk2 = f(t + h/2, y + h*k1/2)\n",
        "\tk3 = f(t + h/2, y + h*k2/2)\n",
        "\tk4 = f(t + h, y + h*k3)\n",
        "\treturn y + h*(k1 + 2*k2 + 2*k3 + k4)/6\n",
        "\n",
        "# Problem setup\n",
        "t0 = 0          # Initial time\n",
        "y0 = 1          # Initial value y(0) = 1\n",
        "t_final = 10    # Final time\n",
        "n = 100         # Number of steps\n",
        "h = (t_final - t0) / n  # Step size\n",
        "\n",
        "# Arrays to store solution\n",
        "t = np.linspace(t0, t_final, n+1)\n",
        "y = np.zeros(n+1)\n",
        "y[0] = y0\n",
        "\n",
        "# Solve using RK4\n",
        "for i in range(n):\n",
        "\ty[i+1] = rk4_step(f, t[i], y[i], h)\n",
        "\n",
        "# Create a table with t and y values\n",
        "data = [[round(t[i], 4), round(y[i], 6)] for i in range(n+1)]\n",
        "print(tabulate(data, headers=[\"t\", \"y(t)\"], tablefmt=\"grid\"))\n",
        "\n",
        "# Plot the solution\n",
        "plt.figure(figsize=(10, 6))\n",
        "plt.plot(t, y, 'bo-', linewidth=2, markersize=6)\n",
        "plt.grid(True)\n",
        "plt.xlabel('t', fontsize=12)\n",
        "plt.ylabel('y(t)', fontsize=12)\n",
        "plt.title('Solution of dy/dt = y*sin(t) + t^2, y(0)=1 using RK4', fontsize=14)\n",
        "plt.tight_layout()\n",
        "plt.show()"
      ]
    },
    {
      "cell_type": "markdown",
      "metadata": {},
      "source": [
        "### Q.5"
      ]
    },
    {
      "cell_type": "code",
      "execution_count": null,
      "metadata": {},
      "outputs": [],
      "source": [
        "import numpy as np\n",
        "import matplotlib.pyplot as plt\n",
        "from matplotlib import cm\n",
        "from matplotlib.animation import FuncAnimation\n",
        "from mpl_toolkits.mplot3d import Axes3D\n",
        "\n",
        "# Create figure and 3D axis\n",
        "fig = plt.figure(figsize=(10, 8))\n",
        "ax = fig.add_subplot(111, projection='3d')\n",
        "\n",
        "# Create meshgrid\n",
        "x = np.linspace(-5, 5, 200)\n",
        "y = np.linspace(-5, 5, 200)\n",
        "X, Y = np.meshgrid(x, y)\n",
        "\n",
        "# Define function\n",
        "Z = np.sin(np.sqrt(X**2 + Y**2))\n",
        "\n",
        "# Create surface plot\n",
        "surf = ax.plot_surface(X, Y, Z, cmap=cm.viridis, alpha=0.8,\n",
        "                      linewidth=0, antialiased=True)\n",
        "\n",
        "# Add labels and title\n",
        "ax.set_xlabel('X', fontsize=12)\n",
        "ax.set_ylabel('Y', fontsize=12)\n",
        "ax.set_zlabel('f(x,y)', fontsize=12)\n",
        "ax.set_title('f(x,y) = sin((x²+y²)^(1/2))', fontsize=14)\n",
        "\n",
        "# Add colorbar\n",
        "fig.colorbar(surf, ax=ax, shrink=0.5, aspect=5, label='Function Value')\n",
        "\n",
        "# Set consistent viewing limits\n",
        "ax.set_xlim(-5, 5)\n",
        "ax.set_ylim(-5, 5)\n",
        "ax.set_zlim(-1.2, 1.2)\n",
        "\n",
        "# Animation function\n",
        "def animate(frame):\n",
        "    ax.view_init(elev=30, azim=frame)\n",
        "    return [surf]\n",
        "\n",
        "# Create animation (rotate 360 degrees)\n",
        "ani = FuncAnimation(fig, animate, frames=np.arange(0, 360, 2), interval=50, blit=True)\n",
        "\n",
        "plt.tight_layout()\n",
        "plt.show()\n",
        "\n",
        "# Uncomment to save animation as a GIF\n",
        "# from matplotlib.animation import PillowWriter\n",
        "# ani.save('rotating_plot.gif', writer=PillowWriter(fps=30))"
      ]
    }
  ],
  "metadata": {
    "colab": {
      "provenance": []
    },
    "kernelspec": {
      "display_name": "Python 3",
      "language": "python",
      "name": "python3"
    },
    "language_info": {
      "codemirror_mode": {
        "name": "ipython",
        "version": 3
      },
      "file_extension": ".py",
      "mimetype": "text/x-python",
      "name": "python",
      "nbconvert_exporter": "python",
      "pygments_lexer": "ipython3",
      "version": "3.13.2"
    }
  },
  "nbformat": 4,
  "nbformat_minor": 0
}
