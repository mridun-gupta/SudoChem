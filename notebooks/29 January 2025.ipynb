{
 "cells": [
  {
   "cell_type": "markdown",
   "metadata": {
    "id": "t8iaaNBDZZA8"
   },
   "source": [
    "# Print \"Hello World\"."
   ]
  },
  {
   "cell_type": "code",
   "execution_count": null,
   "metadata": {
    "colab": {
     "base_uri": "https://localhost:8080/"
    },
    "executionInfo": {
     "elapsed": 9,
     "status": "ok",
     "timestamp": 1738176807388,
     "user": {
      "displayName": "Mridun Gupta",
      "userId": "12954793222975516504"
     },
     "user_tz": -330
    },
    "id": "6ERQvDiGZZA8",
    "outputId": "dac7e69b-f637-4979-e311-ffa80bf435ad"
   },
   "outputs": [],
   "source": [
    "print(\"Hello World\")"
   ]
  },
  {
   "cell_type": "markdown",
   "metadata": {
    "id": "f2dDoW3xZZA9"
   },
   "source": [
    "# Define two numerical values and execute basic arithmatic operations.\n",
    "### Define 'a' and 'b' and execute '+,-,*,/' between 'a' and 'b'."
   ]
  },
  {
   "cell_type": "code",
   "execution_count": null,
   "metadata": {
    "colab": {
     "base_uri": "https://localhost:8080/"
    },
    "executionInfo": {
     "elapsed": 8,
     "status": "ok",
     "timestamp": 1738176807388,
     "user": {
      "displayName": "Mridun Gupta",
      "userId": "12954793222975516504"
     },
     "user_tz": -330
    },
    "id": "_U32Z6kFZZA9",
    "outputId": "ba452d18-93db-43f1-f14b-a02a5498c284"
   },
   "outputs": [],
   "source": [
    "# defining variables\n",
    "a = 1\n",
    "b = 2\n",
    "\n",
    "# defining arithmatic operations as variables\n",
    "c = a+b\n",
    "d = a-b\n",
    "e = a*b\n",
    "f = a/b\n",
    "\n",
    "# executing print\n",
    "print(c)\n",
    "print(d)\n",
    "print(e)\n",
    "print(f)"
   ]
  },
  {
   "cell_type": "markdown",
   "metadata": {
    "id": "xeZeypeUZZA-"
   },
   "source": [
    "# Squaring a numerical value\n",
    "### Define 'a' and execute the squaring of 'a'."
   ]
  },
  {
   "cell_type": "code",
   "execution_count": null,
   "metadata": {
    "colab": {
     "base_uri": "https://localhost:8080/"
    },
    "executionInfo": {
     "elapsed": 7,
     "status": "ok",
     "timestamp": 1738176807388,
     "user": {
      "displayName": "Mridun Gupta",
      "userId": "12954793222975516504"
     },
     "user_tz": -330
    },
    "id": "8i8dOM4YZZA-",
    "outputId": "263da7e2-207e-4bcb-8d60-63c7f10c1625"
   },
   "outputs": [],
   "source": [
    "# defining variables\n",
    "g = 3\n",
    "\n",
    "# defining arithmatic operations as variables\n",
    "h = g**2\n",
    "\n",
    "# executing print\n",
    "print(h)"
   ]
  },
  {
   "cell_type": "markdown",
   "metadata": {
    "id": "40NmTTZWZZA-"
   },
   "source": [
    "# Square rooting a numerical value\n",
    "### Define 'a' and execute the square root of 'a'."
   ]
  },
  {
   "cell_type": "code",
   "execution_count": null,
   "metadata": {
    "colab": {
     "base_uri": "https://localhost:8080/"
    },
    "executionInfo": {
     "elapsed": 7,
     "status": "ok",
     "timestamp": 1738176807388,
     "user": {
      "displayName": "Mridun Gupta",
      "userId": "12954793222975516504"
     },
     "user_tz": -330
    },
    "id": "Z0aLHQ2KZZA-",
    "outputId": "dc072f5e-ca78-4187-83ae-8f9f40f785a5"
   },
   "outputs": [],
   "source": [
    "# importing required library\n",
    "import math\n",
    "\n",
    "# defining variables\n",
    "i=4\n",
    "\n",
    "# defining arithmatic operation as variable\n",
    "j=math.sqrt(i)\n",
    "\n",
    "# executing print\n",
    "print(j)"
   ]
  },
  {
   "cell_type": "markdown",
   "metadata": {
    "id": "EPBvCxMSZZA-"
   },
   "source": [
    "### Make use of Numpy\n",
    "# Square rooting a numerical value\n",
    "### Define 'a' and execute the square root of 'a'."
   ]
  },
  {
   "cell_type": "code",
   "execution_count": null,
   "metadata": {
    "colab": {
     "base_uri": "https://localhost:8080/"
    },
    "executionInfo": {
     "elapsed": 7,
     "status": "ok",
     "timestamp": 1738176807389,
     "user": {
      "displayName": "Mridun Gupta",
      "userId": "12954793222975516504"
     },
     "user_tz": -330
    },
    "id": "Ffrtr6XXZZA-",
    "outputId": "9fe3c8ff-debc-42a9-f0dd-5c2901fbeb1d"
   },
   "outputs": [],
   "source": [
    "# importing required library\n",
    "import numpy as NumericPython\n",
    "\n",
    "# defining variables\n",
    "k=4\n",
    "\n",
    "# defining arithmatic operation as variable\n",
    "l=NumericPython.sqrt(i)\n",
    "\n",
    "# executing print\n",
    "print(l)"
   ]
  },
  {
   "cell_type": "markdown",
   "metadata": {
    "id": "y8_V_nXSZZA-"
   },
   "source": [
    "# Print numpy version."
   ]
  },
  {
   "cell_type": "code",
   "execution_count": null,
   "metadata": {
    "colab": {
     "base_uri": "https://localhost:8080/"
    },
    "executionInfo": {
     "elapsed": 6,
     "status": "ok",
     "timestamp": 1738176807389,
     "user": {
      "displayName": "Mridun Gupta",
      "userId": "12954793222975516504"
     },
     "user_tz": -330
    },
    "id": "B8C5kv3NZZA_",
    "outputId": "fc381889-0d20-42ce-91c1-64bcf39a47f1"
   },
   "outputs": [],
   "source": [
    "# importing required library\n",
    "import numpy as NumericPython\n",
    "\n",
    "# executing print\n",
    "print(\"numpy\",NumericPython.__version__)"
   ]
  },
  {
   "cell_type": "markdown",
   "metadata": {
    "id": "O2Wgi7OhZZA_"
   },
   "source": [
    "# Print array in numpy.\n",
    "## Define a array and execute a print using numpy."
   ]
  },
  {
   "cell_type": "code",
   "execution_count": null,
   "metadata": {
    "colab": {
     "base_uri": "https://localhost:8080/"
    },
    "executionInfo": {
     "elapsed": 392,
     "status": "ok",
     "timestamp": 1738176931192,
     "user": {
      "displayName": "Mridun Gupta",
      "userId": "12954793222975516504"
     },
     "user_tz": -330
    },
    "id": "l-XX69KZZZA_",
    "outputId": "8857cd84-e8e8-4da5-c7ef-9344a91d3881"
   },
   "outputs": [],
   "source": [
    "# importing required variables\n",
    "import numpy as NumericPython\n",
    "\n",
    "#defining array as variable\n",
    "array = NumericPython.array((1,2,3,4,5,6,7,8,9,10))\n",
    "\n",
    "# executing print\n",
    "print(array)"
   ]
  },
  {
   "cell_type": "markdown",
   "metadata": {
    "id": "R9j2HrWCZZA_"
   },
   "source": [
    "### Make use of Matplotlib\n",
    "# Print Matplotlib version."
   ]
  },
  {
   "cell_type": "code",
   "execution_count": null,
   "metadata": {
    "colab": {
     "base_uri": "https://localhost:8080/"
    },
    "executionInfo": {
     "elapsed": 1256,
     "status": "ok",
     "timestamp": 1738176824270,
     "user": {
      "displayName": "Mridun Gupta",
      "userId": "12954793222975516504"
     },
     "user_tz": -330
    },
    "id": "UPUQD-NyZZA_",
    "outputId": "808de53f-6f5a-41c1-be05-0f33d3fbf975"
   },
   "outputs": [],
   "source": [
    "# importing required variables\n",
    "import matplotlib as mpl\n",
    "\n",
    "# executing print\n",
    "print(mpl.__version__)"
   ]
  },
  {
   "cell_type": "markdown",
   "metadata": {
    "id": "P5Aa9MjsZZA_"
   },
   "source": [
    "# Plotting some graphs\n",
    "## Import 'numpy' and 'Matplotlib' and define points and plot the graph accordingly."
   ]
  },
  {
   "cell_type": "code",
   "execution_count": null,
   "metadata": {
    "colab": {
     "base_uri": "https://localhost:8080/",
     "height": 430
    },
    "executionInfo": {
     "elapsed": 11,
     "status": "ok",
     "timestamp": 1738176824270,
     "user": {
      "displayName": "Mridun Gupta",
      "userId": "12954793222975516504"
     },
     "user_tz": -330
    },
    "id": "LWLzj4g4ZZA_",
    "outputId": "bb91453e-e691-4f67-ee6e-40179890527c"
   },
   "outputs": [],
   "source": [
    "# importing required libraries\n",
    "import numpy as NumericPython\n",
    "import matplotlib as mlp\n",
    "import matplotlib.pyplot as mlpPlot\n",
    "\n",
    "# defining coordinate points\n",
    "xCoordinates = NumericPython.array((0,6))\n",
    "yCoordiantes = NumericPython.array((0,250))\n",
    "\n",
    "# plotting graph\n",
    "mlpPlot.plot(xCoordinates,yCoordiantes)\n",
    "mlpPlot.show()"
   ]
  }
 ],
 "metadata": {
  "colab": {
   "provenance": []
  },
  "kernelspec": {
   "display_name": "Python 3",
   "language": "python",
   "name": "python3"
  },
  "language_info": {
   "codemirror_mode": {
    "name": "ipython",
    "version": 3
   },
   "file_extension": ".py",
   "mimetype": "text/x-python",
   "name": "python",
   "nbconvert_exporter": "python",
   "pygments_lexer": "ipython3",
   "version": "3.13.1"
  }
 },
 "nbformat": 4,
 "nbformat_minor": 0
}
