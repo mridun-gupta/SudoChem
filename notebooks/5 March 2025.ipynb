{
 "cells": [
  {
   "cell_type": "markdown",
   "metadata": {},
   "source": [
    "# Functions\n",
    "\n",
    "### Types of functions:\n",
    "- Build-in functions;\n",
    "- User defined functions"
   ]
  },
  {
   "cell_type": "markdown",
   "metadata": {},
   "source": [
    "> # Let's begin!"
   ]
  },
  {
   "cell_type": "markdown",
   "metadata": {},
   "source": [
    "# Question\n",
    "### Code a user-defined function to greet the end-user."
   ]
  },
  {
   "cell_type": "code",
   "execution_count": null,
   "metadata": {},
   "outputs": [],
   "source": [
    "def greet():\n",
    "    print(\"Namaste!\")\n",
    "greet()"
   ]
  },
  {
   "cell_type": "markdown",
   "metadata": {},
   "source": [
    "### Code some basic user-defined function."
   ]
  },
  {
   "cell_type": "markdown",
   "metadata": {},
   "source": [
    "#### > Attempt 1"
   ]
  },
  {
   "cell_type": "code",
   "execution_count": null,
   "metadata": {},
   "outputs": [],
   "source": [
    "firstNumber = float(input(\"First number:\"))\n",
    "secondNumber = float(input(\"Second number:\"))\n",
    "\n",
    "def add(a,b):\n",
    "    return a+b\n",
    "\n",
    "sum = add(a,b)\n",
    "\n",
    "print(f\"{a} + {b} = {sum}\")"
   ]
  },
  {
   "cell_type": "markdown",
   "metadata": {},
   "source": [
    "#### > Attempt 2"
   ]
  },
  {
   "cell_type": "code",
   "execution_count": null,
   "metadata": {},
   "outputs": [],
   "source": [
    "number = float(input(\"Number:\"))\n",
    "\n",
    "def sq(c):\n",
    "    return c**2\n",
    "\n",
    "result = sq(c)\n",
    "\n",
    "print(f\"{c}^2 = {result}\")"
   ]
  },
  {
   "cell_type": "markdown",
   "metadata": {},
   "source": [
    "#### > Attempt 3 (Complex Type)"
   ]
  },
  {
   "cell_type": "code",
   "execution_count": null,
   "metadata": {},
   "outputs": [],
   "source": [
    "import os\n",
    "\n",
    "# Define the cipher and decipher sheets\n",
    "CipherSheet = {\n",
    "    \"A\": \".1\", \"B\": \".2\", \"C\": \".3\", \"D\": \".4\",\n",
    "    \"E\": \".01\", \"F\": \".02\", \"G\": \".03\", \"H\": \".04\",\n",
    "    \"I\": \".001\", \"J\": \".002\", \"K\": \".003\", \"L\": \".004\",\n",
    "    \"M\": \".0001\", \"N\": \".0002\", \"O\": \".0003\", \"P\": \".0004\",\n",
    "    \"Q\": \".00001\", \"R\": \".00002\", \"S\": \".00003\", \"T\": \".00004\",\n",
    "    \"U\": \".000001\", \"V\": \".000002\", \"W\": \".000003\", \"X\": \".000004\",\n",
    "    \"Y\": \".0000001\", \"Z\": \".0000002\", \" \": \"#\"\n",
    "}\n",
    "\n",
    "# Cipher function\n",
    "def Cipher(text):\n",
    "    return \"\".join(CipherSheet.get(char.upper(), \"\") for char in text)\n",
    "\n",
    "# Main function\n",
    "def main():\n",
    "    mode = input(\"Do you want to cipher the text?\\n> \").strip().lower()\n",
    "    if mode not in [\"y\", \"n\"]:\n",
    "        print(\"Invalid option. Executing exit.\")\n",
    "        return\n",
    "\n",
    "    if mode == \"y\":\n",
    "        text = input(\"Paste the text:\\n> \").strip()\n",
    "        result = Cipher(text)\n",
    "    else:\n",
    "        print(\"Executing exit.\")\n",
    "        return\n",
    "\n",
    "    print(\"Result:\")\n",
    "    print(result)\n",
    "\n",
    "if __name__ == \"__main__\":\n",
    "    main()"
   ]
  },
  {
   "cell_type": "markdown",
   "metadata": {},
   "source": [
    "# Question\n",
    "### Write a python program to perform the division of two numbers with all the components (divisor, dividend, reminder) as output."
   ]
  },
  {
   "cell_type": "code",
   "execution_count": null,
   "metadata": {},
   "outputs": [],
   "source": [
    "# Taking input from the user\n",
    "dividend = float(input(\"Enter the dividend: \"))\n",
    "divisor = float(input(\"Enter the divisor: \"))\n",
    "\n",
    "# Checking for division by zero\n",
    "if divisor == 0:\n",
    "    print(\"Error: Division by zero is not allowed.\")\n",
    "else:\n",
    "    quotient = dividend // divisor\n",
    "    remainder = dividend % divisor\n",
    "\n",
    "    # Displaying the results\n",
    "    print(f\"Dividend: {dividend}\")\n",
    "    print(f\"Divisor: {divisor}\")\n",
    "    print(f\"Quotient: {quotient}\")\n",
    "    print(f\"Remainder: {remainder}\")"
   ]
  }
 ],
 "metadata": {
  "kernelspec": {
   "display_name": "Python 3",
   "language": "python",
   "name": "python3"
  },
  "language_info": {
   "codemirror_mode": {
    "name": "ipython",
    "version": 3
   },
   "file_extension": ".py",
   "mimetype": "text/x-python",
   "name": "python",
   "nbconvert_exporter": "python",
   "pygments_lexer": "ipython3",
   "version": "3.13.2"
  }
 },
 "nbformat": 4,
 "nbformat_minor": 2
}
