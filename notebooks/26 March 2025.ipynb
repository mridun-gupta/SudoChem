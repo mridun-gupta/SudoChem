{
 "cells": [
  {
   "cell_type": "markdown",
   "metadata": {},
   "source": [
    "# (...continued) Non-Linear Equation"
   ]
  },
  {
   "cell_type": "markdown",
   "metadata": {},
   "source": [
    "> # Let's begin!"
   ]
  },
  {
   "cell_type": "markdown",
   "metadata": {},
   "source": [
    "(... continued ) made improvements to the code snippet [14] in the notebook dated \"19 March 2025\"."
   ]
  },
  {
   "cell_type": "markdown",
   "metadata": {},
   "source": [
    "# Newton Raphson Method"
   ]
  },
  {
   "cell_type": "markdown",
   "metadata": {},
   "source": [
    "## Question\n",
    "\n",
    "### Solve vander waals equation using this method."
   ]
  },
  {
   "cell_type": "code",
   "execution_count": null,
   "metadata": {},
   "outputs": [],
   "source": [
    "from tabulate import tabulate\n",
    "\n",
    "def vander_waals(V, P, a, b, R, T):\n",
    "    return (P + a / V**2) * (V - b) - R * T\n",
    "\n",
    "def vander_waals_derivative(V, P, a, b, R, T):\n",
    "    return -2 * a / V**3 * (V - b) + (P + a / V**2)\n",
    "\n",
    "# Prompt user for inputs or use default values\n",
    "use_default = input(\"Do you want to use default values? (yes/no): \").strip().lower()\n",
    "\n",
    "if use_default == 'no':\n",
    "    P = float(input(\"Enter pressure (P) in atm: \"))\n",
    "    a = float(input(\"Enter Van der Waals constant a: \"))\n",
    "    b = float(input(\"Enter Van der Waals constant b: \"))\n",
    "    R = float(input(\"Enter ideal gas constant (R): \"))\n",
    "    T = float(input(\"Enter temperature (T) in K: \"))\n",
    "else:\n",
    "    print(\"Using default values.\")\n",
    "    P = 10.0\n",
    "    a = 0.364\n",
    "    b = 0.0427\n",
    "    R = 0.0821\n",
    "    T = 300.0\n",
    "\n",
    "# Newton-Raphson method\n",
    "V = float(input(\"Enter initial guess for volume (V): \"))\n",
    "toleranceIndex = int(input(\"Enter the value of tolerance, in the order of 1e-y: \"))\n",
    "tolerate = 10**(-toleranceIndex)\n",
    "max_iterations = int(input(\"Enter the maximum number of iterations: \"))\n",
    "iteration = 0\n",
    "\n",
    "results = []\n",
    "\n",
    "while iteration < max_iterations:\n",
    "    f_value = vander_waals(V, P, a, b, R, T)\n",
    "    f_derivative = vander_waals_derivative(V, P, a, b, R, T)\n",
    "\n",
    "    if abs(f_value) < tolerate:\n",
    "        results.append([iteration, round(V, toleranceIndex), round(f_value, toleranceIndex), round(f_derivative, toleranceIndex)])\n",
    "        break\n",
    "\n",
    "    results.append([iteration, round(V, toleranceIndex), round(f_value, toleranceIndex), round(f_derivative, toleranceIndex)])\n",
    "    V -= f_value / f_derivative\n",
    "    iteration += 1\n",
    "\n",
    "# Output the result\n",
    "\n",
    "\n",
    "if iteration == max_iterations:\n",
    "    print(\"Did not converge.\")\n",
    "else:\n",
    "    print(tabulate(results, headers=[\"Iteration\", \"Volume (V)\", \"f(V)\", \"f'(V)\"]))"
   ]
  },
  {
   "cell_type": "markdown",
   "metadata": {},
   "source": [
    "## Question\n",
    "\n",
    "### Solve given implicit equation of drag coefficient (1/Cd = a.log(Re.Cd)+b) using this method."
   ]
  },
  {
   "cell_type": "code",
   "execution_count": null,
   "metadata": {},
   "outputs": [],
   "source": [
    "import math\n",
    "\n",
    "def drag_coefficient(Cd, Re, a, b):\n",
    "    return 1 / Cd - a * math.log(Re * Cd) - b\n",
    "\n",
    "def drag_coefficient_derivative(Cd, Re, a):\n",
    "    return -1 / Cd**2 - a / (Cd * math.log(Re))\n",
    "\n",
    "# Prompt user for Reynolds number (Re) or use a default value\n",
    "Re = float(input(\"Enter Reynolds number (Re): \"))\n",
    "a = float(input(\"Enter constant a: \"))\n",
    "b = float(input(\"Enter constant b: \"))\n",
    "\n",
    "# Initial guess for Cd\n",
    "Cd = float(input(\"Enter initial guess for drag coefficient (Cd): \"))\n",
    "toleranceIndex = int(input(\"Enter the value of tolerance, in the order of 1e-y: \"))\n",
    "tolerate = 10**(-toleranceIndex)\n",
    "max_iterations = int(input(\"Enter the maximum number of iterations: \"))\n",
    "iteration = 0\n",
    "\n",
    "drag_results = []\n",
    "\n",
    "# Newton-Raphson method for solving Cd\n",
    "while iteration < max_iterations:\n",
    "    f_value = drag_coefficient(Cd, Re, a, b)\n",
    "    f_derivative = drag_coefficient_derivative(Cd, Re, a)\n",
    "\n",
    "    if abs(f_value) < tolerate:\n",
    "        drag_results.append([iteration, round(Cd, toleranceIndex), round(f_value, toleranceIndex)])\n",
    "        break\n",
    "\n",
    "    drag_results.append([iteration, round(Cd, toleranceIndex), round(f_value, toleranceIndex)])\n",
    "    Cd -= f_value / f_derivative\n",
    "    iteration += 1\n",
    "\n",
    "# Output the result\n",
    "if iteration == max_iterations:\n",
    "    print(\"Did not converge.\")\n",
    "else:\n",
    "    print(tabulate(drag_results, headers=[\"Iteration\", \"Drag Coefficient (Cd)\", \"f(Cd)\"]))"
   ]
  }
 ],
 "metadata": {
  "kernelspec": {
   "display_name": "Python 3",
   "language": "python",
   "name": "python3"
  },
  "language_info": {
   "codemirror_mode": {
    "name": "ipython",
    "version": 3
   },
   "file_extension": ".py",
   "mimetype": "text/x-python",
   "name": "python",
   "nbconvert_exporter": "python",
   "pygments_lexer": "ipython3",
   "version": "3.13.2"
  }
 },
 "nbformat": 4,
 "nbformat_minor": 2
}
