{
 "cells": [
  {
   "cell_type": "markdown",
   "id": "c0f4b1ca",
   "metadata": {},
   "source": [
    "# Boundary Value Problems"
   ]
  },
  {
   "cell_type": "markdown",
   "id": "83469137",
   "metadata": {},
   "source": [
    "> # Let's begin!"
   ]
  },
  {
   "cell_type": "code",
   "execution_count": null,
   "id": "1966fb94",
   "metadata": {},
   "outputs": [],
   "source": [
    "import numpy as np\n",
    "import matplotlib.pyplot as plt\n",
    "from tabulate import tabulate\n",
    "\n",
    "#Given prameters\n",
    "L=4.0    #Length of domain\n",
    "T=5.0    #Total time\n",
    "h=0.5    #Space step\n",
    "k=1.0    #Time step\n",
    "alpha = 16 # From PDE: u_xx=alpha*u_t\n",
    "lambda_ = k / (alpha*h**2) #Crank-Nicolson\n",
    "\n",
    "#Discretization\n",
    "Nx= int(L/h)  #Number of spatial interval\n",
    "Nt= int(T/k)  #Number of time steps\n",
    "x= np.linspace(0, L, Nx+1) #Spatial grid points\n",
    "t= np.linspace(0, T, Nt+1) #Time grid points\n",
    "\n",
    "#solution matrix\n",
    "U= np.zeros((Nx+1, Nt+1)) #U[i,j]=U(ih,jk)\n",
    "\n",
    "#initial condition\n",
    "U[:, 0] = (x/2)*(8-x)\n",
    "\n",
    "#boundary condition\n",
    "U[0,:]=0\n",
    "U[-1, :]=8\n",
    "\n",
    "#Matrix construction for internal nodes\n",
    "n=Nx -1\n",
    "A=np.zeros((n,n))\n",
    "B=np.zeros((n,n))\n",
    "\n",
    "for i in range(n):\n",
    "    A[i,i] = 2*(1 + lambda_)\n",
    "    B[i,i] = 2*(1 - lambda_)\n",
    "    if i > 0:\n",
    "        A[i, i-1] = -lambda_\n",
    "        B[i, i-1] = lambda_\n",
    "    if i < n - 1:\n",
    "        A[i, i+1] = -lambda_\n",
    "        B[i, i+1] = lambda_\n",
    "\n",
    "#Time-stepping Loop\n",
    "for j in range(Nt):\n",
    "    #Extractu_i,j for internal nodes (i = 1 to Nx-1)\n",
    "    u_prev = U[1:Nx, j]\n",
    "    #RHS vector\n",
    "    b = B @ u_prev\n",
    "    #Add boundary terms to RHS\n",
    "    b[0] += lambda_*(U[0, j] + U[0, j+1]) #Left Boundary\n",
    "    b[-1] += lambda_*(U[Nx, j] + U[Nx, j+1]) #Right Boundary\n",
    "\n",
    "    #Solve A * u_next = b\n",
    "    u_next = np.linalg.solve(A, b)\n",
    "\n",
    "    #Update solution\n",
    "    U[1:Nx, j+1] = u_next\n",
    "\n",
    "#Table output\n",
    "header = [\"x\\\\t\"]+[f\"t={int(ti)}\" for ti in t]\n",
    "table_data = []\n",
    "\n",
    "for i in range(Nx + 1):\n",
    "    row = [f\"x={x[i]:1f}\"]+[round(U[i,j], 4) for j in range(Nt+1)]\n",
    "    table_data.append(row)\n",
    "\n",
    "print(\"\\nSolution Table (Explicit FDM):\")\n",
    "print(tabulate(table_data, headers=header, tablefmt= \"grid\"))"
   ]
  }
 ],
 "metadata": {
  "kernelspec": {
   "display_name": "Python 3",
   "language": "python",
   "name": "python3"
  },
  "language_info": {
   "codemirror_mode": {
    "name": "ipython",
    "version": 3
   },
   "file_extension": ".py",
   "mimetype": "text/x-python",
   "name": "python",
   "nbconvert_exporter": "python",
   "pygments_lexer": "ipython3",
   "version": "3.13.2"
  }
 },
 "nbformat": 4,
 "nbformat_minor": 5
}
